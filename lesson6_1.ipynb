{
 "cells": [
  {
   "cell_type": "code",
   "execution_count": null,
   "metadata": {},
   "outputs": [],
   "source": [
    "#作業\n",
    "#0(含)~59分為丁\n",
    "#60(含)~69分為丙\n",
    "#70(含)~79分為乙\n",
    "#80(含)~89分為甲\n",
    "#90(含)~100分為優\n",
    "import pyinputplus as pyip\n",
    "\n",
    "scores=pyip.inputInt(\"請輸入學生分數(1~100):\",max=100,min=0)\n",
    "print(scores)\n",
    "#多項選擇\n",
    "if scores>=90:\n",
    "    print(\"優\")\n",
    "elif scores>=80:\n",
    "    print(\"甲\")\n",
    "elif scores>=70:\n",
    "    print(\"乙\")\n",
    "elif scores>=60:\n",
    "    print(\"丙\")\n",
    "else:\n",
    "    print(\"丁\")"
   ]
  }
 ],
 "metadata": {
  "language_info": {
   "name": "python"
  }
 },
 "nbformat": 4,
 "nbformat_minor": 2
}
