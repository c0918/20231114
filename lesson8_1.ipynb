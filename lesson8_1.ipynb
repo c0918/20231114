{
 "cells": [
  {
   "cell_type": "code",
   "execution_count": null,
   "metadata": {},
   "outputs": [],
   "source": [
    "area(3.3,bottom=8.7,height=5.5)\n",
    "area(3.3,bottom=5.5,height=8.7)\n"
   ]
  }
 ],
 "metadata": {
  "language_info": {
   "name": "python"
  }
 },
 "nbformat": 4,
 "nbformat_minor": 2
}
