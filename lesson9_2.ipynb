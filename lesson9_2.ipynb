{
 "cells": [
  {
   "cell_type": "code",
   "execution_count": 27,
   "metadata": {},
   "outputs": [],
   "source": [
    "class student:\n",
    "    def __init__(self,n,c,e,m):\n",
    "        #attibute(屬性)\n",
    "        self.__name=n  #不可以取出和修改\n",
    "        self.chinese= c #可修改的attibute\n",
    "        self.english= e\n",
    "        self.math= m\n",
    "\n",
    "@property\n",
    "def name(self):\n",
    "    return self.__name\n",
    "\n",
    "def sum(self):\n",
    "    return self.chinese + self.english + self.math\n"
   ]
  },
  {
   "cell_type": "code",
   "execution_count": 28,
   "metadata": {},
   "outputs": [
    {
     "ename": "AttributeError",
     "evalue": "'student' object has no attribute 'name'",
     "output_type": "error",
     "traceback": [
      "\u001b[0;31m---------------------------------------------------------------------------\u001b[0m",
      "\u001b[0;31mAttributeError\u001b[0m                            Traceback (most recent call last)",
      "Cell \u001b[0;32mIn[28], line 2\u001b[0m\n\u001b[1;32m      1\u001b[0m stu1\u001b[38;5;241m=\u001b[39m student (\u001b[38;5;124m\"\u001b[39m\u001b[38;5;124m廖雪吟\u001b[39m\u001b[38;5;124m\"\u001b[39m,\u001b[38;5;241m78\u001b[39m,\u001b[38;5;241m92\u001b[39m,\u001b[38;5;241m65\u001b[39m)\n\u001b[0;32m----> 2\u001b[0m \u001b[38;5;28mprint\u001b[39m(\u001b[43mstu1\u001b[49m\u001b[38;5;241;43m.\u001b[39;49m\u001b[43mname\u001b[49m)\n\u001b[1;32m      3\u001b[0m \u001b[38;5;28mprint\u001b[39m(stu1\u001b[38;5;241m.\u001b[39mchinese)\n\u001b[1;32m      4\u001b[0m \u001b[38;5;28mprint\u001b[39m(stu1\u001b[38;5;241m.\u001b[39menglish)\n",
      "\u001b[0;31mAttributeError\u001b[0m: 'student' object has no attribute 'name'"
     ]
    }
   ],
   "source": [
    "stu1= student (\"廖雪吟\",78,92,65)\n",
    "print(stu1.name)\n",
    "print(stu1.chinese)\n",
    "print(stu1.english)\n",
    "print(stu1.math)\n",
    "\n"
   ]
  },
  {
   "cell_type": "code",
   "execution_count": 9,
   "metadata": {},
   "outputs": [
    {
     "name": "stdout",
     "output_type": "stream",
     "text": [
      "執行初始化\n",
      "廖勇旭\n",
      "24\n"
     ]
    }
   ],
   "source": [
    "p2=person(\"廖勇旭\",a=24)\n",
    "print(p2.name)\n",
    "print(p2.age)"
   ]
  },
  {
   "cell_type": "code",
   "execution_count": null,
   "metadata": {},
   "outputs": [],
   "source": []
  },
  {
   "cell_type": "code",
   "execution_count": null,
   "metadata": {},
   "outputs": [],
   "source": []
  }
 ],
 "metadata": {
  "kernelspec": {
   "display_name": "Python 3",
   "language": "python",
   "name": "python3"
  },
  "language_info": {
   "codemirror_mode": {
    "name": "ipython",
    "version": 3
   },
   "file_extension": ".py",
   "mimetype": "text/x-python",
   "name": "python",
   "nbconvert_exporter": "python",
   "pygments_lexer": "ipython3",
   "version": "3.10.13"
  }
 },
 "nbformat": 4,
 "nbformat_minor": 2
}
